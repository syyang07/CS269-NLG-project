{
  "nbformat": 4,
  "nbformat_minor": 0,
  "metadata": {
    "colab": {
      "name": "finetune_gpt2",
      "provenance": [],
      "collapsed_sections": []
    },
    "kernelspec": {
      "name": "python3",
      "display_name": "Python 3"
    },
    "accelerator": "GPU"
  },
  "cells": [
    {
      "cell_type": "code",
      "metadata": {
        "id": "Wdc2LdhMhF5d",
        "colab": {
          "base_uri": "https://localhost:8080/"
        },
        "outputId": "46b14917-2abe-4bc1-ed3d-adda84e6f6a2"
      },
      "source": [
        "!pip install transformers\n",
        "!pip install datasets\n",
        "!pip install sacrebleu"
      ],
      "execution_count": null,
      "outputs": [
        {
          "output_type": "stream",
          "text": [
            "Collecting transformers\n",
            "\u001b[?25l  Downloading https://files.pythonhosted.org/packages/ed/db/98c3ea1a78190dac41c0127a063abf92bd01b4b0b6970a6db1c2f5b66fa0/transformers-4.0.1-py3-none-any.whl (1.4MB)\n",
            "\u001b[K     |████████████████████████████████| 1.4MB 8.1MB/s \n",
            "\u001b[?25hRequirement already satisfied: regex!=2019.12.17 in /usr/local/lib/python3.6/dist-packages (from transformers) (2019.12.20)\n",
            "Requirement already satisfied: requests in /usr/local/lib/python3.6/dist-packages (from transformers) (2.23.0)\n",
            "Requirement already satisfied: tqdm>=4.27 in /usr/local/lib/python3.6/dist-packages (from transformers) (4.41.1)\n",
            "Collecting sacremoses\n",
            "\u001b[?25l  Downloading https://files.pythonhosted.org/packages/7d/34/09d19aff26edcc8eb2a01bed8e98f13a1537005d31e95233fd48216eed10/sacremoses-0.0.43.tar.gz (883kB)\n",
            "\u001b[K     |████████████████████████████████| 890kB 25.7MB/s \n",
            "\u001b[?25hRequirement already satisfied: numpy in /usr/local/lib/python3.6/dist-packages (from transformers) (1.18.5)\n",
            "Requirement already satisfied: filelock in /usr/local/lib/python3.6/dist-packages (from transformers) (3.0.12)\n",
            "Collecting tokenizers==0.9.4\n",
            "\u001b[?25l  Downloading https://files.pythonhosted.org/packages/0f/1c/e789a8b12e28be5bc1ce2156cf87cb522b379be9cadc7ad8091a4cc107c4/tokenizers-0.9.4-cp36-cp36m-manylinux2010_x86_64.whl (2.9MB)\n",
            "\u001b[K     |████████████████████████████████| 2.9MB 39.5MB/s \n",
            "\u001b[?25hRequirement already satisfied: packaging in /usr/local/lib/python3.6/dist-packages (from transformers) (20.7)\n",
            "Requirement already satisfied: dataclasses; python_version < \"3.7\" in /usr/local/lib/python3.6/dist-packages (from transformers) (0.8)\n",
            "Requirement already satisfied: urllib3!=1.25.0,!=1.25.1,<1.26,>=1.21.1 in /usr/local/lib/python3.6/dist-packages (from requests->transformers) (1.24.3)\n",
            "Requirement already satisfied: idna<3,>=2.5 in /usr/local/lib/python3.6/dist-packages (from requests->transformers) (2.10)\n",
            "Requirement already satisfied: certifi>=2017.4.17 in /usr/local/lib/python3.6/dist-packages (from requests->transformers) (2020.12.5)\n",
            "Requirement already satisfied: chardet<4,>=3.0.2 in /usr/local/lib/python3.6/dist-packages (from requests->transformers) (3.0.4)\n",
            "Requirement already satisfied: six in /usr/local/lib/python3.6/dist-packages (from sacremoses->transformers) (1.15.0)\n",
            "Requirement already satisfied: click in /usr/local/lib/python3.6/dist-packages (from sacremoses->transformers) (7.1.2)\n",
            "Requirement already satisfied: joblib in /usr/local/lib/python3.6/dist-packages (from sacremoses->transformers) (0.17.0)\n",
            "Requirement already satisfied: pyparsing>=2.0.2 in /usr/local/lib/python3.6/dist-packages (from packaging->transformers) (2.4.7)\n",
            "Building wheels for collected packages: sacremoses\n",
            "  Building wheel for sacremoses (setup.py) ... \u001b[?25l\u001b[?25hdone\n",
            "  Created wheel for sacremoses: filename=sacremoses-0.0.43-cp36-none-any.whl size=893261 sha256=0f63011965e6cfadf2241c2d1148734c16b21e67b64d0ff87d181cac3f41d8c4\n",
            "  Stored in directory: /root/.cache/pip/wheels/29/3c/fd/7ce5c3f0666dab31a50123635e6fb5e19ceb42ce38d4e58f45\n",
            "Successfully built sacremoses\n",
            "Installing collected packages: sacremoses, tokenizers, transformers\n",
            "Successfully installed sacremoses-0.0.43 tokenizers-0.9.4 transformers-4.0.1\n",
            "Collecting datasets\n",
            "\u001b[?25l  Downloading https://files.pythonhosted.org/packages/1a/38/0c24dce24767386123d528d27109024220db0e7a04467b658d587695241a/datasets-1.1.3-py3-none-any.whl (153kB)\n",
            "\u001b[K     |████████████████████████████████| 163kB 8.8MB/s \n",
            "\u001b[?25hRequirement already satisfied: dill in /usr/local/lib/python3.6/dist-packages (from datasets) (0.3.3)\n",
            "Requirement already satisfied: pandas in /usr/local/lib/python3.6/dist-packages (from datasets) (1.1.5)\n",
            "Requirement already satisfied: numpy>=1.17 in /usr/local/lib/python3.6/dist-packages (from datasets) (1.18.5)\n",
            "Collecting pyarrow>=0.17.1\n",
            "\u001b[?25l  Downloading https://files.pythonhosted.org/packages/d7/e1/27958a70848f8f7089bff8d6ebe42519daf01f976d28b481e1bfd52c8097/pyarrow-2.0.0-cp36-cp36m-manylinux2014_x86_64.whl (17.7MB)\n",
            "\u001b[K     |████████████████████████████████| 17.7MB 215kB/s \n",
            "\u001b[?25hCollecting xxhash\n",
            "\u001b[?25l  Downloading https://files.pythonhosted.org/packages/f7/73/826b19f3594756cb1c6c23d2fbd8ca6a77a9cd3b650c9dec5acc85004c38/xxhash-2.0.0-cp36-cp36m-manylinux2010_x86_64.whl (242kB)\n",
            "\u001b[K     |████████████████████████████████| 245kB 53.6MB/s \n",
            "\u001b[?25hRequirement already satisfied: dataclasses; python_version < \"3.7\" in /usr/local/lib/python3.6/dist-packages (from datasets) (0.8)\n",
            "Requirement already satisfied: requests>=2.19.0 in /usr/local/lib/python3.6/dist-packages (from datasets) (2.23.0)\n",
            "Requirement already satisfied: multiprocess in /usr/local/lib/python3.6/dist-packages (from datasets) (0.70.11.1)\n",
            "Requirement already satisfied: tqdm<4.50.0,>=4.27 in /usr/local/lib/python3.6/dist-packages (from datasets) (4.41.1)\n",
            "Requirement already satisfied: pytz>=2017.2 in /usr/local/lib/python3.6/dist-packages (from pandas->datasets) (2018.9)\n",
            "Requirement already satisfied: python-dateutil>=2.7.3 in /usr/local/lib/python3.6/dist-packages (from pandas->datasets) (2.8.1)\n",
            "Requirement already satisfied: chardet<4,>=3.0.2 in /usr/local/lib/python3.6/dist-packages (from requests>=2.19.0->datasets) (3.0.4)\n",
            "Requirement already satisfied: certifi>=2017.4.17 in /usr/local/lib/python3.6/dist-packages (from requests>=2.19.0->datasets) (2020.12.5)\n",
            "Requirement already satisfied: urllib3!=1.25.0,!=1.25.1,<1.26,>=1.21.1 in /usr/local/lib/python3.6/dist-packages (from requests>=2.19.0->datasets) (1.24.3)\n",
            "Requirement already satisfied: idna<3,>=2.5 in /usr/local/lib/python3.6/dist-packages (from requests>=2.19.0->datasets) (2.10)\n",
            "Requirement already satisfied: six>=1.5 in /usr/local/lib/python3.6/dist-packages (from python-dateutil>=2.7.3->pandas->datasets) (1.15.0)\n",
            "Installing collected packages: pyarrow, xxhash, datasets\n",
            "  Found existing installation: pyarrow 0.14.1\n",
            "    Uninstalling pyarrow-0.14.1:\n",
            "      Successfully uninstalled pyarrow-0.14.1\n",
            "Successfully installed datasets-1.1.3 pyarrow-2.0.0 xxhash-2.0.0\n",
            "Collecting sacrebleu\n",
            "\u001b[?25l  Downloading https://files.pythonhosted.org/packages/a3/c4/8e948f601a4f9609e8b2b58f31966cb13cf17b940b82aa3e767f01c42c52/sacrebleu-1.4.14-py3-none-any.whl (64kB)\n",
            "\u001b[K     |████████████████████████████████| 71kB 5.4MB/s \n",
            "\u001b[?25hCollecting portalocker\n",
            "  Downloading https://files.pythonhosted.org/packages/89/a6/3814b7107e0788040870e8825eebf214d72166adf656ba7d4bf14759a06a/portalocker-2.0.0-py2.py3-none-any.whl\n",
            "Installing collected packages: portalocker, sacrebleu\n",
            "Successfully installed portalocker-2.0.0 sacrebleu-1.4.14\n"
          ],
          "name": "stdout"
        }
      ]
    },
    {
      "cell_type": "code",
      "metadata": {
        "colab": {
          "base_uri": "https://localhost:8080/"
        },
        "id": "WI5sztlKhoYx",
        "outputId": "2742c2c8-f484-45f3-dafb-078d5e923d2f"
      },
      "source": [
        "from google.colab import drive\n",
        "drive.mount('/content/drive')"
      ],
      "execution_count": null,
      "outputs": [
        {
          "output_type": "stream",
          "text": [
            "Mounted at /content/drive\n"
          ],
          "name": "stdout"
        }
      ]
    },
    {
      "cell_type": "markdown",
      "metadata": {
        "id": "J5Tfkn0Pc4PF"
      },
      "source": [
        "# Training"
      ]
    },
    {
      "cell_type": "code",
      "metadata": {
        "colab": {
          "base_uri": "https://localhost:8080/"
        },
        "id": "poS2n1K1jUAt",
        "outputId": "33af652b-35f5-4d3a-ed9a-1b6462cd099f"
      },
      "source": [
        "!python finetune_gp2v2.py \\\n",
        "    --model_name_or_path gpt2 \\\n",
        "    --train_file train_cate.txt \\\n",
        "    --validation_file test_cate.txt \\\n",
        "    --do_train \\\n",
        "    --do_eval \\\n",
        "    --output_dir gpt2_cate \\\n",
        "    --eval_steps 100 \\\n",
        "    --save_steps 5000 \\\n",
        "    --warmup_steps 500 \\\n",
        "    --per_device_train_batch_size=2 \\\n",
        "    --per_device_eval_batch_size=2 \\\n",
        "    --overwrite_output_dir \\\n",
        "    --num_train_epochs 1000"
      ],
      "execution_count": null,
      "outputs": [
        {
          "output_type": "stream",
          "text": [
            "2020-12-16 05:44:21.705929: I tensorflow/stream_executor/platform/default/dso_loader.cc:48] Successfully opened dynamic library libcudart.so.10.1\n",
            "12/16/2020 05:44:26 - WARNING - __main__ -   Process rank: -1, device: cuda:0, n_gpu: 1distributed training: False, 16-bits training: False\n",
            "12/16/2020 05:44:26 - INFO - __main__ -   Training/evaluation parameters TrainingArguments(output_dir='/content/drive/MyDrive/yelp/gpt2_yelp', overwrite_output_dir=True, do_train=True, do_eval=True, do_predict=False, evaluation_strategy=<EvaluationStrategy.NO: 'no'>, prediction_loss_only=False, per_device_train_batch_size=2, per_device_eval_batch_size=2, per_gpu_train_batch_size=None, per_gpu_eval_batch_size=None, gradient_accumulation_steps=1, eval_accumulation_steps=None, learning_rate=5e-05, weight_decay=0.0, adam_beta1=0.9, adam_beta2=0.999, adam_epsilon=1e-08, max_grad_norm=1.0, num_train_epochs=1000.0, max_steps=-1, warmup_steps=500, logging_dir='runs/Dec16_05-44-26_e79243ec0e00', logging_first_step=False, logging_steps=500, save_steps=5000, save_total_limit=None, no_cuda=False, seed=42, fp16=False, fp16_opt_level='O1', local_rank=-1, tpu_num_cores=None, tpu_metrics_debug=False, debug=False, dataloader_drop_last=False, eval_steps=100, dataloader_num_workers=0, past_index=-1, run_name='/content/drive/MyDrive/yelp/gpt2_yelp', disable_tqdm=False, remove_unused_columns=True, label_names=None, load_best_model_at_end=False, metric_for_best_model=None, greater_is_better=None)\n",
            "Using custom data configuration default\n",
            "Downloading and preparing dataset text/default-1eaf1ff036868515 (download: Unknown size, generated: Unknown size, post-processed: Unknown size, total: Unknown size) to /root/.cache/huggingface/datasets/text/default-1eaf1ff036868515/0.0.0/daf90a707a433ac193b369c8cc1772139bb6cca21a9c7fe83bdd16aad9b9b6ab...\n",
            "Dataset text downloaded and prepared to /root/.cache/huggingface/datasets/text/default-1eaf1ff036868515/0.0.0/daf90a707a433ac193b369c8cc1772139bb6cca21a9c7fe83bdd16aad9b9b6ab. Subsequent calls will reuse this data.\n",
            "[INFO|configuration_utils.py:411] 2020-12-16 05:44:28,358 >> loading configuration file https://huggingface.co/gpt2/resolve/main/config.json from cache at /root/.cache/huggingface/transformers/fc674cd6907b4c9e933cb42d67662436b89fa9540a1f40d7c919d0109289ad01.7d2e0efa5ca20cef4fb199382111e9d3ad96fd77b849e1d4bed13a66e1336f51\n",
            "[INFO|configuration_utils.py:447] 2020-12-16 05:44:28,359 >> Model config GPT2Config {\n",
            "  \"activation_function\": \"gelu_new\",\n",
            "  \"architectures\": [\n",
            "    \"GPT2LMHeadModel\"\n",
            "  ],\n",
            "  \"attn_pdrop\": 0.1,\n",
            "  \"bos_token_id\": 50256,\n",
            "  \"embd_pdrop\": 0.1,\n",
            "  \"eos_token_id\": 50256,\n",
            "  \"gradient_checkpointing\": false,\n",
            "  \"initializer_range\": 0.02,\n",
            "  \"layer_norm_epsilon\": 1e-05,\n",
            "  \"model_type\": \"gpt2\",\n",
            "  \"n_ctx\": 1024,\n",
            "  \"n_embd\": 768,\n",
            "  \"n_head\": 12,\n",
            "  \"n_inner\": null,\n",
            "  \"n_layer\": 12,\n",
            "  \"n_positions\": 1024,\n",
            "  \"resid_pdrop\": 0.1,\n",
            "  \"summary_activation\": null,\n",
            "  \"summary_first_dropout\": 0.1,\n",
            "  \"summary_proj_to_labels\": true,\n",
            "  \"summary_type\": \"cls_index\",\n",
            "  \"summary_use_proj\": true,\n",
            "  \"task_specific_params\": {\n",
            "    \"text-generation\": {\n",
            "      \"do_sample\": true,\n",
            "      \"max_length\": 50\n",
            "    }\n",
            "  },\n",
            "  \"use_cache\": true,\n",
            "  \"vocab_size\": 50257\n",
            "}\n",
            "\n",
            "[INFO|configuration_utils.py:411] 2020-12-16 05:44:28,710 >> loading configuration file https://huggingface.co/gpt2/resolve/main/config.json from cache at /root/.cache/huggingface/transformers/fc674cd6907b4c9e933cb42d67662436b89fa9540a1f40d7c919d0109289ad01.7d2e0efa5ca20cef4fb199382111e9d3ad96fd77b849e1d4bed13a66e1336f51\n",
            "[INFO|configuration_utils.py:447] 2020-12-16 05:44:28,710 >> Model config GPT2Config {\n",
            "  \"activation_function\": \"gelu_new\",\n",
            "  \"architectures\": [\n",
            "    \"GPT2LMHeadModel\"\n",
            "  ],\n",
            "  \"attn_pdrop\": 0.1,\n",
            "  \"bos_token_id\": 50256,\n",
            "  \"embd_pdrop\": 0.1,\n",
            "  \"eos_token_id\": 50256,\n",
            "  \"gradient_checkpointing\": false,\n",
            "  \"initializer_range\": 0.02,\n",
            "  \"layer_norm_epsilon\": 1e-05,\n",
            "  \"model_type\": \"gpt2\",\n",
            "  \"n_ctx\": 1024,\n",
            "  \"n_embd\": 768,\n",
            "  \"n_head\": 12,\n",
            "  \"n_inner\": null,\n",
            "  \"n_layer\": 12,\n",
            "  \"n_positions\": 1024,\n",
            "  \"resid_pdrop\": 0.1,\n",
            "  \"summary_activation\": null,\n",
            "  \"summary_first_dropout\": 0.1,\n",
            "  \"summary_proj_to_labels\": true,\n",
            "  \"summary_type\": \"cls_index\",\n",
            "  \"summary_use_proj\": true,\n",
            "  \"task_specific_params\": {\n",
            "    \"text-generation\": {\n",
            "      \"do_sample\": true,\n",
            "      \"max_length\": 50\n",
            "    }\n",
            "  },\n",
            "  \"use_cache\": true,\n",
            "  \"vocab_size\": 50257\n",
            "}\n",
            "\n",
            "[INFO|tokenization_utils_base.py:1768] 2020-12-16 05:44:29,345 >> loading file https://huggingface.co/gpt2/resolve/main/vocab.json from cache at /root/.cache/huggingface/transformers/684fe667923972fb57f6b4dcb61a3c92763ad89882f3da5da9866baf14f2d60f.c7ed1f96aac49e745788faa77ba0a26a392643a50bb388b9c04ff469e555241f\n",
            "[INFO|tokenization_utils_base.py:1768] 2020-12-16 05:44:29,345 >> loading file https://huggingface.co/gpt2/resolve/main/merges.txt from cache at /root/.cache/huggingface/transformers/c0c761a63004025aeadd530c4c27b860ec4ecbe8a00531233de21d865a402598.5d12962c5ee615a4c803841266e9c3be9a691a924f72d395d3a6c6c81157788b\n",
            "[INFO|tokenization_utils_base.py:1768] 2020-12-16 05:44:29,345 >> loading file https://huggingface.co/gpt2/resolve/main/tokenizer.json from cache at /root/.cache/huggingface/transformers/16a2f78023c8dc511294f0c97b5e10fde3ef9889ad6d11ffaa2a00714e73926e.cf2d0ecb83b6df91b3dbb53f1d1e4c311578bfd3aa0e04934215a49bf9898df0\n",
            "[INFO|modeling_utils.py:940] 2020-12-16 05:44:29,632 >> loading weights file https://huggingface.co/gpt2/resolve/main/pytorch_model.bin from cache at /root/.cache/huggingface/transformers/752929ace039baa8ef70fe21cdf9ab9445773d20e733cf693d667982e210837e.323c769945a351daa25546176f8208b3004b6f563438a7603e7932bae9025925\n",
            "[INFO|modeling_utils.py:1056] 2020-12-16 05:44:49,100 >> All model checkpoint weights were used when initializing GPT2LMHeadModel.\n",
            "\n",
            "[INFO|modeling_utils.py:1065] 2020-12-16 05:44:49,100 >> All the weights of GPT2LMHeadModel were initialized from the model checkpoint at gpt2.\n",
            "If your task is similar to the task the model of the checkpoint was trained on, you can already use GPT2LMHeadModel for predictions without further training.\n",
            "100% 1/1 [00:16<00:00, 16.91s/ba]\n",
            "100% 1/1 [00:02<00:00,  2.84s/ba]\n",
            "100% 1/1 [00:04<00:00,  4.37s/ba]\n",
            "100% 1/1 [00:00<00:00,  1.41ba/s]\n",
            "[INFO|trainer.py:357] 2020-12-16 05:45:53,435 >> The following columns in the training set don't have a corresponding argument in `GPT2LMHeadModel.forward` and have been ignored: .\n",
            "[INFO|trainer.py:357] 2020-12-16 05:45:53,436 >> The following columns in the evaluation set don't have a corresponding argument in `GPT2LMHeadModel.forward` and have been ignored: .\n",
            "[INFO|trainer.py:662] 2020-12-16 05:45:53,439 >> ***** Running training *****\n",
            "[INFO|trainer.py:663] 2020-12-16 05:45:53,439 >>   Num examples = 5143\n",
            "[INFO|trainer.py:664] 2020-12-16 05:45:53,439 >>   Num Epochs = 1000\n",
            "[INFO|trainer.py:665] 2020-12-16 05:45:53,439 >>   Instantaneous batch size per device = 2\n",
            "[INFO|trainer.py:666] 2020-12-16 05:45:53,439 >>   Total train batch size (w. parallel, distributed & accumulation) = 2\n",
            "[INFO|trainer.py:667] 2020-12-16 05:45:53,439 >>   Gradient Accumulation steps = 1\n",
            "[INFO|trainer.py:668] 2020-12-16 05:45:53,439 >>   Total optimization steps = 2572000\n",
            "{'loss': 3.9139765625, 'learning_rate': 5e-05, 'epoch': 0.19440124416796267}\n",
            "{'loss': 3.749115966796875, 'learning_rate': 4.9990278047832006e-05, 'epoch': 0.38880248833592534}\n",
            "{'loss': 3.687695556640625, 'learning_rate': 4.998055609566401e-05, 'epoch': 0.583203732503888}\n",
            "{'loss': 3.64226220703125, 'learning_rate': 4.997083414349601e-05, 'epoch': 0.7776049766718507}\n",
            "{'loss': 3.62447119140625, 'learning_rate': 4.996111219132802e-05, 'epoch': 0.9720062208398134}\n",
            "{'loss': 3.54755224609375, 'learning_rate': 4.995139023916002e-05, 'epoch': 1.166407465007776}\n",
            "{'loss': 3.52348974609375, 'learning_rate': 4.994166828699203e-05, 'epoch': 1.3608087091757386}\n",
            "{'loss': 3.5141533203125, 'learning_rate': 4.9931946334824034e-05, 'epoch': 1.5552099533437014}\n",
            "{'loss': 3.507759033203125, 'learning_rate': 4.992222438265604e-05, 'epoch': 1.7496111975116642}\n",
            "{'loss': 3.4935908203125, 'learning_rate': 4.991250243048804e-05, 'epoch': 1.9440124416796267}\n",
            "  0% 5000/2572000 [1:08:27<584:06:49,  1.22it/s][INFO|trainer.py:1162] 2020-12-16 06:54:20,842 >> Saving model checkpoint to /content/drive/MyDrive/yelp/gpt2_yelp/checkpoint-5000\n",
            "[INFO|configuration_utils.py:281] 2020-12-16 06:54:20,858 >> Configuration saved in /content/drive/MyDrive/yelp/gpt2_yelp/checkpoint-5000/config.json\n",
            "[INFO|modeling_utils.py:741] 2020-12-16 06:54:23,458 >> Model weights saved in /content/drive/MyDrive/yelp/gpt2_yelp/checkpoint-5000/pytorch_model.bin\n",
            "{'loss': 3.439678955078125, 'learning_rate': 4.990278047832005e-05, 'epoch': 2.1384136858475893}\n",
            "{'loss': 3.423202392578125, 'learning_rate': 4.9893058526152056e-05, 'epoch': 2.332814930015552}\n",
            "{'loss': 3.412964111328125, 'learning_rate': 4.988333657398406e-05, 'epoch': 2.527216174183515}\n",
            "{'loss': 3.41590283203125, 'learning_rate': 4.987361462181606e-05, 'epoch': 2.721617418351477}\n",
            "{'loss': 3.421617431640625, 'learning_rate': 4.9863892669648067e-05, 'epoch': 2.91601866251944}\n",
            "{'loss': 3.368369140625, 'learning_rate': 4.985417071748007e-05, 'epoch': 3.1104199066874028}\n",
            "{'loss': 3.336091796875, 'learning_rate': 4.984444876531208e-05, 'epoch': 3.3048211508553655}\n",
            "{'loss': 3.3513740234375, 'learning_rate': 4.9834726813144084e-05, 'epoch': 3.4992223950233283}\n",
            "{'loss': 3.354791748046875, 'learning_rate': 4.982500486097609e-05, 'epoch': 3.6936236391912907}\n",
            "{'loss': 3.3561689453125, 'learning_rate': 4.981528290880809e-05, 'epoch': 3.8880248833592534}\n",
            "  0% 10000/2572000 [2:17:01<583:45:19,  1.22it/s][INFO|trainer.py:1162] 2020-12-16 08:02:55,235 >> Saving model checkpoint to /content/drive/MyDrive/yelp/gpt2_yelp/checkpoint-10000\n",
            "[INFO|configuration_utils.py:281] 2020-12-16 08:02:55,243 >> Configuration saved in /content/drive/MyDrive/yelp/gpt2_yelp/checkpoint-10000/config.json\n",
            "[INFO|modeling_utils.py:741] 2020-12-16 08:02:57,911 >> Model weights saved in /content/drive/MyDrive/yelp/gpt2_yelp/checkpoint-10000/pytorch_model.bin\n",
            "{'loss': 3.320111572265625, 'learning_rate': 4.9805560956640095e-05, 'epoch': 4.082426127527216}\n",
            "{'loss': 3.27608349609375, 'learning_rate': 4.97958390044721e-05, 'epoch': 4.276827371695179}\n",
            "{'loss': 3.283674560546875, 'learning_rate': 4.97861170523041e-05, 'epoch': 4.471228615863142}\n",
            "{'loss': 3.291314453125, 'learning_rate': 4.9776395100136106e-05, 'epoch': 4.665629860031104}\n",
            "{'loss': 3.30026025390625, 'learning_rate': 4.976667314796811e-05, 'epoch': 4.8600311041990665}\n",
            "{'loss': 3.273491455078125, 'learning_rate': 4.975695119580012e-05, 'epoch': 5.05443234836703}\n",
            "{'loss': 3.2253857421875, 'learning_rate': 4.9747229243632124e-05, 'epoch': 5.248833592534992}\n",
            "{'loss': 3.23316748046875, 'learning_rate': 4.973750729146413e-05, 'epoch': 5.443234836702955}\n",
            "{'loss': 3.230881103515625, 'learning_rate': 4.972778533929614e-05, 'epoch': 5.637636080870918}\n",
            "{'loss': 3.243635009765625, 'learning_rate': 4.971806338712814e-05, 'epoch': 5.83203732503888}\n",
            "  1% 15000/2572000 [3:25:38<583:24:26,  1.22it/s][INFO|trainer.py:1162] 2020-12-16 09:11:32,069 >> Saving model checkpoint to /content/drive/MyDrive/yelp/gpt2_yelp/checkpoint-15000\n",
            "[INFO|configuration_utils.py:281] 2020-12-16 09:11:32,076 >> Configuration saved in /content/drive/MyDrive/yelp/gpt2_yelp/checkpoint-15000/config.json\n",
            "[INFO|modeling_utils.py:741] 2020-12-16 09:11:34,740 >> Model weights saved in /content/drive/MyDrive/yelp/gpt2_yelp/checkpoint-15000/pytorch_model.bin\n",
            "{'loss': 3.231644775390625, 'learning_rate': 4.9708341434960145e-05, 'epoch': 6.026438569206843}\n",
            "{'loss': 3.16639697265625, 'learning_rate': 4.969861948279215e-05, 'epoch': 6.2208398133748055}\n",
            "{'loss': 3.181986083984375, 'learning_rate': 4.968889753062415e-05, 'epoch': 6.415241057542769}\n",
            "{'loss': 3.1884970703125, 'learning_rate': 4.9679175578456156e-05, 'epoch': 6.609642301710731}\n",
            "{'loss': 3.188037841796875, 'learning_rate': 4.966945362628816e-05, 'epoch': 6.804043545878693}\n",
            "{'loss': 3.19508642578125, 'learning_rate': 4.965973167412016e-05, 'epoch': 6.998444790046657}\n",
            "{'loss': 3.114176513671875, 'learning_rate': 4.9650009721952166e-05, 'epoch': 7.192846034214619}\n",
            "{'loss': 3.125764404296875, 'learning_rate': 4.964028776978418e-05, 'epoch': 7.387247278382581}\n",
            "{'loss': 3.13681298828125, 'learning_rate': 4.963056581761618e-05, 'epoch': 7.5816485225505446}\n",
            "{'loss': 3.146126953125, 'learning_rate': 4.9620843865448184e-05, 'epoch': 7.776049766718507}\n",
            "  1% 20000/2572000 [4:34:10<580:18:44,  1.22it/s][INFO|trainer.py:1162] 2020-12-16 10:20:03,908 >> Saving model checkpoint to /content/drive/MyDrive/yelp/gpt2_yelp/checkpoint-20000\n",
            "[INFO|configuration_utils.py:281] 2020-12-16 10:20:03,921 >> Configuration saved in /content/drive/MyDrive/yelp/gpt2_yelp/checkpoint-20000/config.json\n",
            "[INFO|modeling_utils.py:741] 2020-12-16 10:20:06,596 >> Model weights saved in /content/drive/MyDrive/yelp/gpt2_yelp/checkpoint-20000/pytorch_model.bin\n",
            "{'loss': 3.145453857421875, 'learning_rate': 4.961112191328019e-05, 'epoch': 7.970451010886469}\n",
            "{'loss': 3.0837001953125, 'learning_rate': 4.960139996111219e-05, 'epoch': 8.164852255054432}\n",
            "{'loss': 3.0803486328125, 'learning_rate': 4.9591678008944195e-05, 'epoch': 8.359253499222396}\n",
            "{'loss': 3.089546142578125, 'learning_rate': 4.9581956056776205e-05, 'epoch': 8.553654743390357}\n",
            "{'loss': 3.0951640625, 'learning_rate': 4.957223410460821e-05, 'epoch': 8.74805598755832}\n",
            "{'loss': 3.106323974609375, 'learning_rate': 4.956251215244021e-05, 'epoch': 8.942457231726284}\n",
            "{'loss': 3.046251953125, 'learning_rate': 4.9552790200272216e-05, 'epoch': 9.136858475894245}\n",
            "{'loss': 3.036190185546875, 'learning_rate': 4.954306824810423e-05, 'epoch': 9.331259720062208}\n",
            "{'loss': 3.043725830078125, 'learning_rate': 4.953334629593623e-05, 'epoch': 9.525660964230172}\n",
            "{'loss': 3.04633544921875, 'learning_rate': 4.9523624343768234e-05, 'epoch': 9.720062208398133}\n",
            "  1% 25000/2572000 [5:42:46<580:27:43,  1.22it/s][INFO|trainer.py:1162] 2020-12-16 11:28:39,688 >> Saving model checkpoint to /content/drive/MyDrive/yelp/gpt2_yelp/checkpoint-25000\n",
            "[INFO|configuration_utils.py:281] 2020-12-16 11:28:39,697 >> Configuration saved in /content/drive/MyDrive/yelp/gpt2_yelp/checkpoint-25000/config.json\n",
            "[INFO|modeling_utils.py:741] 2020-12-16 11:28:42,541 >> Model weights saved in /content/drive/MyDrive/yelp/gpt2_yelp/checkpoint-25000/pytorch_model.bin\n",
            "{'loss': 3.056357177734375, 'learning_rate': 4.951390239160024e-05, 'epoch': 9.914463452566096}\n",
            "{'loss': 3.018469970703125, 'learning_rate': 4.950418043943224e-05, 'epoch': 10.10886469673406}\n",
            "{'loss': 2.986458740234375, 'learning_rate': 4.9494458487264245e-05, 'epoch': 10.303265940902023}\n",
            "{'loss': 2.999141357421875, 'learning_rate': 4.948473653509625e-05, 'epoch': 10.497667185069984}\n",
            "{'loss': 3.004686279296875, 'learning_rate': 4.947501458292825e-05, 'epoch': 10.692068429237947}\n",
            "{'loss': 3.014972412109375, 'learning_rate': 4.9465292630760256e-05, 'epoch': 10.88646967340591}\n",
            "{'loss': 2.9846689453125, 'learning_rate': 4.945557067859226e-05, 'epoch': 11.080870917573872}\n",
            "{'loss': 2.9356845703125, 'learning_rate': 4.944584872642427e-05, 'epoch': 11.275272161741835}\n",
            "{'loss': 2.95950244140625, 'learning_rate': 4.943612677425627e-05, 'epoch': 11.469673405909798}\n",
            "{'loss': 2.963775146484375, 'learning_rate': 4.942640482208828e-05, 'epoch': 11.66407465007776}\n",
            "  1% 30000/2572000 [6:51:19<578:50:23,  1.22it/s][INFO|trainer.py:1162] 2020-12-16 12:37:12,966 >> Saving model checkpoint to /content/drive/MyDrive/yelp/gpt2_yelp/checkpoint-30000\n",
            "[INFO|configuration_utils.py:281] 2020-12-16 12:37:12,974 >> Configuration saved in /content/drive/MyDrive/yelp/gpt2_yelp/checkpoint-30000/config.json\n",
            "[INFO|modeling_utils.py:741] 2020-12-16 12:37:15,934 >> Model weights saved in /content/drive/MyDrive/yelp/gpt2_yelp/checkpoint-30000/pytorch_model.bin\n",
            "{'loss': 2.973760009765625, 'learning_rate': 4.941668286992028e-05, 'epoch': 11.858475894245723}\n",
            "{'loss': 2.95700048828125, 'learning_rate': 4.9406960917752284e-05, 'epoch': 12.052877138413686}\n",
            "{'loss': 2.889770751953125, 'learning_rate': 4.9397238965584294e-05, 'epoch': 12.247278382581648}\n",
            "{'loss': 2.91012548828125, 'learning_rate': 4.93875170134163e-05, 'epoch': 12.441679626749611}\n",
            "{'loss': 2.924677001953125, 'learning_rate': 4.93777950612483e-05, 'epoch': 12.636080870917574}\n",
            "{'loss': 2.933772705078125, 'learning_rate': 4.9368073109080305e-05, 'epoch': 12.830482115085537}\n",
            "{'loss': 2.93219091796875, 'learning_rate': 4.935835115691231e-05, 'epoch': 13.024883359253499}\n",
            "{'loss': 2.8544189453125, 'learning_rate': 4.934862920474432e-05, 'epoch': 13.219284603421462}\n",
            "{'loss': 2.877927490234375, 'learning_rate': 4.933890725257632e-05, 'epoch': 13.413685847589425}\n",
            "{'loss': 2.88304931640625, 'learning_rate': 4.9329185300408327e-05, 'epoch': 13.608087091757387}\n",
            "  1% 35000/2572000 [7:59:58<576:46:14,  1.22it/s][INFO|trainer.py:1162] 2020-12-16 13:45:52,065 >> Saving model checkpoint to /content/drive/MyDrive/yelp/gpt2_yelp/checkpoint-35000\n",
            "[INFO|configuration_utils.py:281] 2020-12-16 13:45:52,072 >> Configuration saved in /content/drive/MyDrive/yelp/gpt2_yelp/checkpoint-35000/config.json\n",
            "[INFO|modeling_utils.py:741] 2020-12-16 13:45:54,812 >> Model weights saved in /content/drive/MyDrive/yelp/gpt2_yelp/checkpoint-35000/pytorch_model.bin\n",
            "  1% 35230/2572000 [8:03:21<581:03:28,  1.21it/s]"
          ],
          "name": "stdout"
        }
      ]
    },
    {
      "cell_type": "markdown",
      "metadata": {
        "id": "6SXKXy_XdBh6"
      },
      "source": [
        "# Computing BLEU Score"
      ]
    },
    {
      "cell_type": "code",
      "metadata": {
        "id": "V5SXQGQ_DVOo"
      },
      "source": [
        "from sacrebleu import corpus_bleu\n",
        "\n",
        "def calculate_bleu(output_lns, refs_lns, **kwargs) -> dict:\n",
        "    \"\"\"Uses sacrebleu's corpus_bleu implementation.\"\"\"\n",
        "    return {\"bleu\": round(corpus_bleu(output_lns, [refs_lns], **kwargs).score, 4)}"
      ],
      "execution_count": null,
      "outputs": []
    },
    {
      "cell_type": "code",
      "metadata": {
        "colab": {
          "base_uri": "https://localhost:8080/"
        },
        "id": "Jx4WBfjADPgZ",
        "outputId": "7dd04a73-512a-477e-9b8c-06f3ff17b552"
      },
      "source": [
        "from transformers import TFGPT2LMHeadModel, GPT2Tokenizer\n",
        "tokenizer = GPT2Tokenizer.from_pretrained(\"./gpt2_cate/checkpoint-10000\")\n",
        "GPT2 = TFGPT2LMHeadModel.from_pretrained(\"./gpt2_cate/checkpoint-10000\", pad_token_id=tokenizer.eos_token_id, from_pt=True)\n",
        "MAX_LEN = 70\n",
        "with open('./test_cate_only.txt', 'r') as f:\n",
        "    testdatas = f.readlines()\n",
        "with open('./test_reviews.txt', 'r') as f:\n",
        "    labels = f.readlines()\n",
        "\n",
        "pred_strs = []\n",
        "label_strs = []\n",
        "for i, testdata in enumerate(testdatas):\n",
        "    input_sequence = []\n",
        "    input_sequence.append(testdata[:-1] + '<SEP>')\n",
        "    # print(input_sequence)\n",
        "    label_strs.append(labels[i][:-1])\n",
        "    input_ids = tokenizer(input_sequence, add_special_tokens=False, return_tensors='tf').input_ids\n",
        "    # generate text until the output length (which includes the context length) reaches 50\n",
        "    greedy_output = GPT2.generate(input_ids, max_length=MAX_LEN)\n",
        "\n",
        "    pred_strs.append(tokenizer.decode(greedy_output[0], skip_special_tokens=True))\n",
        "\n",
        "# print(pred_strs)\n",
        "# print(label_strs)\n",
        "bleu = calculate_bleu(pred_strs, label_strs)\n",
        "print(bleu['bleu'])"
      ],
      "execution_count": null,
      "outputs": [
        {
          "output_type": "stream",
          "text": [
            "Some weights of the PyTorch model were not used when initializing the TF 2.0 model TFGPT2LMHeadModel: ['transformer.h.4.attn.bias', 'transformer.h.6.attn.bias', 'transformer.h.9.attn.bias', 'transformer.h.4.attn.masked_bias', 'transformer.h.10.attn.masked_bias', 'transformer.h.5.attn.bias', 'transformer.h.1.attn.bias', 'transformer.h.11.attn.bias', 'transformer.h.11.attn.masked_bias', 'transformer.h.2.attn.masked_bias', 'lm_head.weight', 'transformer.h.6.attn.masked_bias', 'transformer.h.5.attn.masked_bias', 'transformer.h.2.attn.bias', 'transformer.h.1.attn.masked_bias', 'transformer.h.3.attn.masked_bias', 'transformer.h.3.attn.bias', 'transformer.h.7.attn.bias', 'transformer.h.7.attn.masked_bias', 'transformer.h.9.attn.masked_bias', 'transformer.h.0.attn.masked_bias', 'transformer.h.0.attn.bias', 'transformer.h.8.attn.bias', 'transformer.h.10.attn.bias', 'transformer.h.8.attn.masked_bias']\n",
            "- This IS expected if you are initializing TFGPT2LMHeadModel from a PyTorch model trained on another task or with another architecture (e.g. initializing a TFBertForSequenceClassification model from a BertForPreTraining model).\n",
            "- This IS NOT expected if you are initializing TFGPT2LMHeadModel from a PyTorch model that you expect to be exactly identical (e.g. initializing a TFBertForSequenceClassification model from a BertForSequenceClassification model).\n",
            "All the weights of TFGPT2LMHeadModel were initialized from the PyTorch model.\n",
            "If your task is similar to the task the model of the checkpoint was trained on, you can already use TFGPT2LMHeadModel for predictions without further training.\n"
          ],
          "name": "stderr"
        },
        {
          "output_type": "stream",
          "text": [
            "['food positive bread positive <SEP>']\n",
            "['service positive delivery times positive <SEP>']\n",
            "['food positive Food positive <SEP>']\n",
            "['food positive coffee positive <SEP>']\n",
            "['food conflict ambience positive sushi conflict place positive <SEP>']\n",
            "['e lobster sandwich is good and the spaghetti with Scallops and Shrimp is great.  food positive food positive <SEP>', 'e lobster sandwich is good and the spaghetti with Scallops and Shrimp is great.  food positive food positive <SEP>', 'e lobster sandwich is good and the spaghetti with Scallops and Shrimp is great.  food positive food positive <SEP>', 'e lobster sandwich is good and the spaghetti with Scallops and Shrimp is great.  food positive food positive <SEP>', 'e lobster sandwich is good and the spaghetti with Scallops and Shrimp is great.  food positive food positive <SEP>']\n",
            "['The bread is top notch as well.', 'I have to say they have one of the fastest delivery times in the city.', 'Food is always fresh and hot- ready to eat!', 'Did I mention that the coffee is OUTSTANDING?', 'Certainly not the best sushi in New York, however, it is always fresh, and the place is very clean, sterile.']\n",
            "1.1032\n"
          ],
          "name": "stdout"
        }
      ]
    },
    {
      "cell_type": "markdown",
      "metadata": {
        "id": "2DUSB8JJdHkW"
      },
      "source": [
        "# Generating new reviews"
      ]
    },
    {
      "cell_type": "code",
      "metadata": {
        "id": "2wfiZEh9FBEW"
      },
      "source": [
        "tokenizer = GPT2Tokenizer.from_pretrained(\"./gpt2_cate/checkpoint-10000\")\n",
        "GPT2 = TFGPT2LMHeadModel.from_pretrained(\"./gpt2_cate/checkpoint-10000\",\n",
        "                                          pad_token_id=tokenizer.eos_token_id, from_pt=True)\n",
        "MAX_LEN = 70\n",
        "with open('./test_cate_only.txt', 'r') as f:\n",
        "    testdatas = f.readlines()\n",
        "with open('./test_reviews.txt', 'r') as f:\n",
        "    labels = f.readlines()\n",
        "\n",
        "pred_strs = []\n",
        "label_strs = []\n",
        "for testdata in testdatas:\n",
        "    input_sequence = []\n",
        "    input_sequence.append(testdata[:-1] + '<SEP>')\n",
        "    input_ids = tokenizer.encode(input_sequence, return_tensors='tf')\n",
        "\n",
        "    # generate text until the output length (which includes the context length) reaches 50\n",
        "    greedy_output = GPT2.generate(input_ids, max_length=MAX_LEN)\n",
        "\n",
        "    pred_strs.append(tokenizer.decode(greedy_output[0], skip_special_tokens=True))\n",
        "\n",
        "with open('./generated_review_cate.txt', 'w') as f:\n",
        "    for i in range(len(pred_strs)):\n",
        "        f.write(testdatas[i])\n",
        "        f.write(label_strs[i])\n",
        "        f.write(pred_strs[i] + '\\n')"
      ],
      "execution_count": null,
      "outputs": []
    }
  ]
}